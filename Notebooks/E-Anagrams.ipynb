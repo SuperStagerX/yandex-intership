{
 "cells": [
  {
   "cell_type": "markdown",
   "metadata": {},
   "source": [
    "E. Анаграммы\n",
    "============\n",
    "\n",
    "| Ограничение времени | 1 секунда |\n",
    "|---|---|\n",
    "| Ограничение памяти | 20Mb |\n",
    "| Ввод | стандартный ввод или input.txt |\n",
    "| Вывод | стандартный вывод или output.txt |\n",
    "\n",
    "Даны две строки, состоящие из строчных латинских букв. Требуется определить, являются ли эти строки анаграммами, т. е. отличаются ли они только порядком следования символов.\n",
    "\n",
    "Формат ввода\n",
    "------------\n",
    "\n",
    "Входной файл содержит две строки строчных латинских символов, каждая не длиннее 100 000 символов. Строки разделяются символом перевода строки.\n",
    "\n",
    "Формат вывода\n",
    "-------------\n",
    "\n",
    "Выходной файл должен содержать единицу, если строки являются анаграммами, и ноль в противном случае.\n",
    "\n",
    "### Пример 1\n",
    "\n",
    "| Ввод | Вывод |\n",
    "| --- | --- |\n",
    "|qiu||\n",
    "|iuq|1|\n",
    "\n",
    "### Пример 2\n",
    "\n",
    "| Ввод | Вывод |\n",
    "| --- | --- |\n",
    "|zprl||\n",
    "|zprc|0|"
   ]
  },
  {
   "cell_type": "code",
   "execution_count": 1,
   "metadata": {},
   "outputs": [
    {
     "name": "stdout",
     "output_type": "stream",
     "text": [
      "qiu\n",
      "iuq\n",
      "1\n"
     ]
    }
   ],
   "source": [
    "from collections import Counter\n",
    "\n",
    "def isAnagram(str1, str2):\n",
    "    if len(str1) == len(str2):\n",
    "        if Counter(str1) == Counter(str2):\n",
    "            return 1\n",
    "    return 0\n",
    "\n",
    "str1 = input()\n",
    "str2 = input()\n",
    "print(isAnagram(str1, str2))"
   ]
  },
  {
   "cell_type": "code",
   "execution_count": 2,
   "metadata": {},
   "outputs": [],
   "source": [
    "def test():\n",
    "    str1, str2 = 'water', 'tawer'\n",
    "    assert isAnagram(str1, str2) == 1\n",
    "    str1, str2 = 'water', 'waterlow'\n",
    "    assert isAnagram(str1, str2) == 0\n",
    "    str1, str2 = 'mom', 'dad'\n",
    "    assert isAnagram(str1, str2) == 0"
   ]
  },
  {
   "cell_type": "code",
   "execution_count": 3,
   "metadata": {},
   "outputs": [
    {
     "name": "stdout",
     "output_type": "stream",
     "text": [
      "Проверка прошла успешно!\n"
     ]
    }
   ],
   "source": [
    "try:\n",
    "    test()\n",
    "    print('Проверка прошла успешно!')    \n",
    "except:\n",
    "    print('Всё пропало, шеф!')"
   ]
  }
 ],
 "metadata": {
  "kernelspec": {
   "display_name": "Python 3",
   "language": "python",
   "name": "python3"
  },
  "language_info": {
   "codemirror_mode": {
    "name": "ipython",
    "version": 3
   },
   "file_extension": ".py",
   "mimetype": "text/x-python",
   "name": "python",
   "nbconvert_exporter": "python",
   "pygments_lexer": "ipython3",
   "version": "3.7.3"
  },
  "toc": {
   "base_numbering": 1,
   "nav_menu": {},
   "number_sections": true,
   "sideBar": true,
   "skip_h1_title": false,
   "title_cell": "Table of Contents",
   "title_sidebar": "Contents",
   "toc_cell": false,
   "toc_position": {},
   "toc_section_display": true,
   "toc_window_display": false
  }
 },
 "nbformat": 4,
 "nbformat_minor": 2
}
