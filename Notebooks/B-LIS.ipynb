{
 "cells": [
  {
   "cell_type": "markdown",
   "metadata": {},
   "source": [
    "B. Последовательно идущие единицы\n",
    "=================================\n",
    "\n",
    "| Ограничение времени | 1 секунда |\n",
    "|---|---|\n",
    "| Ограничение памяти | 64Mb |\n",
    "| Ввод | стандартный ввод или input.txt |\n",
    "| Вывод | стандартный вывод или output.txt |\n",
    "\n",
    "Требуется найти в бинарном векторе самую длинную последовательность единиц и вывести её длину.\n",
    "\n",
    "Желательно получить решение, работающее за линейное время и при этом проходящее по входному массиву только один раз.\n",
    "\n",
    "Формат ввода\n",
    "------------\n",
    "\n",
    "Первая строка входного файла содержит одно число n, n ≤ 10000. Каждая из следующих nстрок содержит ровно одно число --- очередной элемент массива.\n",
    "\n",
    "Формат вывода\n",
    "-------------\n",
    "\n",
    "Выходной файл должен содержать единственное число --- длину самой длинной последовательности единиц во входном массиве.\n",
    "\n",
    "Пример\n",
    "------\n",
    "\n",
    "| Ввод | Вывод |\n",
    "| --- | --- |\n",
    "|5|1|\n",
    "|1||\n",
    "|0||\n",
    "|1||\n",
    "|0||\n",
    "|1||"
   ]
  },
  {
   "cell_type": "code",
   "execution_count": 1,
   "metadata": {},
   "outputs": [
    {
     "name": "stdout",
     "output_type": "stream",
     "text": [
      "2\n",
      "1\n",
      "1\n",
      "2\n"
     ]
    }
   ],
   "source": [
    "n = int(input())\n",
    "cur_cnt = 0\n",
    "max_cnt = 0\n",
    "for i in range(n):\n",
    "    if int(input()) == 1:\n",
    "        cur_cnt+=1\n",
    "    else:\n",
    "        if max_cnt < cur_cnt:\n",
    "            max_cnt = cur_cnt\n",
    "        cur_cnt = 0\n",
    "print(max_cnt if max_cnt > cur_cnt else cur_cnt)\n"
   ]
  }
 ],
 "metadata": {
  "kernelspec": {
   "display_name": "Python 3",
   "language": "python",
   "name": "python3"
  },
  "language_info": {
   "codemirror_mode": {
    "name": "ipython",
    "version": 3
   },
   "file_extension": ".py",
   "mimetype": "text/x-python",
   "name": "python",
   "nbconvert_exporter": "python",
   "pygments_lexer": "ipython3",
   "version": "3.7.3"
  },
  "toc": {
   "base_numbering": 1,
   "nav_menu": {},
   "number_sections": true,
   "sideBar": true,
   "skip_h1_title": false,
   "title_cell": "Table of Contents",
   "title_sidebar": "Contents",
   "toc_cell": false,
   "toc_position": {},
   "toc_section_display": true,
   "toc_window_display": false
  }
 },
 "nbformat": 4,
 "nbformat_minor": 2
}
