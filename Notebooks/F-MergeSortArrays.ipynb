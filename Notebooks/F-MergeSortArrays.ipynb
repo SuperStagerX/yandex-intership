{
 "cells": [
  {
   "cell_type": "markdown",
   "metadata": {},
   "source": [
    "F. Слияние k сортированных списков\n",
    "==================================\n",
    "\n",
    "| Язык | Ограничение времени | Ограничение памяти | Ввод | Вывод |\n",
    "|---|---|---|---|---|\n",
    "| Все языки | 1 секунда | 10Mb | стандартный ввод или input.txt | стандартный вывод или output.txt |\n",
    "| Oracle Java 7 | 1 секунда | 20Mb |\n",
    "| Node JS 8.9.4 | 1 секунда | 20Mb |\n",
    "| Oracle Java 8 | 1 секунда | 20Mb |\n",
    "| Kotlin | 1 секунда | 20Mb |\n",
    "\n",
    "Даны k отсортированных в порядке неубывания массивов неотрицательных целых чисел, каждое из которых не превосходит 100. Требуется построить результат их слияния: отсортированный в порядке неубывания массив, содержащий все элементы исходных kмассивов.\n",
    "\n",
    "Длина каждого массива не превосходит 10 ⋅ k.\n",
    "\n",
    "Постарайтесь, чтобы решение работало за время k ⋅ log(k) ⋅ n, если считать, что входные массивы имеют длину n.\n",
    "\n",
    "Формат ввода\n",
    "------------\n",
    "\n",
    "Первая строка входного файла содержит единственное число k, k ≤ 1024.\n",
    "\n",
    "Каждая из следующих k строк описывает по одному массиву. Первое число каждой строки равняется длине соответствующего массива, оставшиеся числа этой строки описывают значения элементов этого же массива. Элементы массивов являются неотрицательными целыми числами и не превосходят 100.\n",
    "\n",
    "Формат вывода\n",
    "-------------\n",
    "\n",
    "Выходной файл должен содержать отсортированный в порядке неубывания массив, содержащий все элементы исходных массивов.\n",
    "\n",
    "Пример\n",
    "------\n",
    "\n",
    "| Ввод | Вывод |\n",
    "| --- | --- |\n",
    "|4|1 2 4 8 16 20 26 42 58 61 64 65 69 84 86 88 96 96|\n",
    "|6 2 26 64 88 96 96||\n",
    "|4 8 20 65 86||\n",
    "|7 1 4 16 42 58 61 69||\n",
    "|1 84||\n",
    "\n",
    "## Решение\n",
    "### Куча\n",
    "Таймаут по памяти 😥"
   ]
  },
  {
   "cell_type": "code",
   "execution_count": 1,
   "metadata": {},
   "outputs": [],
   "source": [
    "from heapq import heappush, heappop\n",
    "import sys\n",
    "n = int(sys.stdin.readline())\n",
    "h = []\n",
    "for i in range(n):\n",
    "    arr = sys.stdin.readline().split(' ')[1:]\n",
    "    for j in arr:\n",
    "        heappush(h, int(j))\n",
    "while(h):\n",
    "    print(heappop(h), end=' ')"
   ]
  },
  {
   "cell_type": "markdown",
   "metadata": {},
   "source": [
    "### Сортировка подсчётом"
   ]
  },
  {
   "cell_type": "code",
   "execution_count": 2,
   "metadata": {},
   "outputs": [
    {
     "name": "stdout",
     "output_type": "stream",
     "text": [
      "4\n",
      "6 2 26 64 88 96 96\n",
      "4 8 20 65 86\n",
      "7 1 4 16 42 58 61 69\n",
      "1 84\n",
      "1 2 4 8 16 20 26 42 58 61 64 65 69 84 86 88 96 96 "
     ]
    }
   ],
   "source": [
    "n = int(input())\n",
    "cnt = [0] * 101\n",
    "for i in range(n):\n",
    "    arr = input().split(' ')[1:]\n",
    "    for j in arr:\n",
    "        cnt[int(j)] += 1\n",
    "for i in range(101):\n",
    "    if cnt[i]:\n",
    "        print(' '.join([str(i)] * cnt[i]), end=' ')"
   ]
  }
 ],
 "metadata": {
  "kernelspec": {
   "display_name": "Python 3",
   "language": "python",
   "name": "python3"
  },
  "language_info": {
   "codemirror_mode": {
    "name": "ipython",
    "version": 3
   },
   "file_extension": ".py",
   "mimetype": "text/x-python",
   "name": "python",
   "nbconvert_exporter": "python",
   "pygments_lexer": "ipython3",
   "version": "3.7.3"
  },
  "toc": {
   "base_numbering": 1,
   "nav_menu": {},
   "number_sections": true,
   "sideBar": true,
   "skip_h1_title": false,
   "title_cell": "Table of Contents",
   "title_sidebar": "Contents",
   "toc_cell": false,
   "toc_position": {},
   "toc_section_display": true,
   "toc_window_display": false
  }
 },
 "nbformat": 4,
 "nbformat_minor": 2
}