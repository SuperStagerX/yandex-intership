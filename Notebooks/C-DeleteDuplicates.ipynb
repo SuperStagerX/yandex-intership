{
 "cells": [
  {
   "cell_type": "markdown",
   "metadata": {},
   "source": [
    "C. Удаление дубликатов\n",
    "======================\n",
    "\n",
    "| Язык | Ограничение времени | Ограничение памяти | Ввод | Вывод |\n",
    "|---|---|---|---|---|\n",
    "| Все языки | 1 секунда | 10Mb | стандартный ввод или input.txt | стандартный вывод или output.txt |\n",
    "| Oracle Java 7 | 1 секунда | 20Mb |\n",
    "| Node JS 8.9.4 | 1 секунда | 20Mb |\n",
    "| Oracle Java 8 | 1 секунда | 20Mb |\n",
    "| Kotlin | 1 секунда | 20Mb |\n",
    "\n",
    "Дан упорядоченный по неубыванию массив целых 32-разрядных чисел. Требуется удалить из него все повторения.\n",
    "\n",
    "Желательно получить решение, которое не считывает входной файл целиком в память, т.е., использует лишь константный объем памяти в процессе работы.\n",
    "\n",
    "Формат ввода\n",
    "------------\n",
    "\n",
    "Первая строка входного файла содержит единственное число n, n ≤ 1000000.\n",
    "\n",
    "На следующих n строк расположены числа --- элементы массива, по одному на строку. Числа отсортированы по неубыванию.\n",
    "\n",
    "Формат вывода\n",
    "-------------\n",
    "\n",
    "Выходной файл должен содержать следующие в порядке возрастания уникальные элементы входного массива.\n",
    "\n",
    "### Пример 1\n",
    "\n",
    "| Ввод | Вывод |\n",
    "| --- | --- |\n",
    "|5|2|\n",
    "|2|4|\n",
    "|4|8|\n",
    "|8||\n",
    "|8||\n",
    "|8||\n",
    "\n",
    "\n",
    "### Пример 2\n",
    "\n",
    "| Ввод | Вывод |\n",
    "| --- | --- |\n",
    "|5|2|\n",
    "|2|8|\n",
    "|2||\n",
    "|2||\n",
    "|8||\n",
    "|8||"
   ]
  },
  {
   "cell_type": "code",
   "execution_count": 1,
   "metadata": {},
   "outputs": [
    {
     "output_type": "stream",
     "name": "stdout",
     "text": [
      "2\n4\n8\n"
     ]
    }
   ],
   "source": [
    "cnt = int(input().strip())\n",
    "no_dupls = []\n",
    "last_number = -1\n",
    "for i in range(cnt):\n",
    "    number = input().strip()\n",
    "    if number != last_number:\n",
    "        no_dupls.append(number)\n",
    "    last_number = number\n",
    "for i in no_dupls:\n",
    "    print(i)"
   ]
  }
 ],
 "metadata": {
  "kernelspec": {
   "display_name": "Python 3",
   "language": "python",
   "name": "python3"
  },
  "language_info": {
   "codemirror_mode": {
    "name": "ipython",
    "version": 3
   },
   "file_extension": ".py",
   "mimetype": "text/x-python",
   "name": "python",
   "nbconvert_exporter": "python",
   "pygments_lexer": "ipython3",
   "version": "3.7.6-final"
  },
  "toc": {
   "base_numbering": 1,
   "nav_menu": {},
   "number_sections": true,
   "sideBar": true,
   "skip_h1_title": false,
   "title_cell": "Table of Contents",
   "title_sidebar": "Contents",
   "toc_cell": false,
   "toc_position": {},
   "toc_section_display": true,
   "toc_window_display": false
  }
 },
 "nbformat": 4,
 "nbformat_minor": 2
}