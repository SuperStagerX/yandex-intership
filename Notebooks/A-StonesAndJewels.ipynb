{
 "cells": [
  {
   "cell_type": "markdown",
   "metadata": {},
   "source": [
    "A. Камни и украшения\n",
    "====================\n",
    "\n",
    "| Ограничение времени | 1 секунда |\n",
    "|---|---|\n",
    "| Ограничение памяти | 64Mb |\n",
    "| Ввод | стандартный ввод или input.txt |\n",
    "| Вывод | стандартный вывод или output.txt |\n",
    "\n",
    "Даны две строки строчных латинских символов: строка J и строка S. Символы, входящие в строку J, --- «драгоценности», входящие в строку S --- «камни». Нужно определить, какое количество символов из S одновременно являются «драгоценностями». Проще говоря, нужно проверить, какое количество символов из S входит в J.\n",
    "\n",
    "Это разминочная задача, к которой мы размещаем готовые решения. Она очень простая и нужна для того, чтобы вы могли познакомиться с нашей автоматической системой проверки решений. Ввод и вывод осуществляется через файлы, либо через стандартные потоки ввода-вывода, как вам удобнее.\n",
    "\n",
    "Python: <https://pastebin.com/bCKpF9Ru>. В качестве языка выбирайте Python 2.7.\n",
    "\n",
    "C++: <https://pastebin.com/e5wMVV1u>. Можно использовать GNU c++ 14 4.9.\n",
    "\n",
    "C#: <https://pastebin.com/UZU4iCB0>. Язык: Mono C# 5.2.0.\n",
    "\n",
    "Java: <https://pastebin.com/SbLfafuv>. Подойдёт, например, язык Java 8.\n",
    "\n",
    "Kotlin: <https://pastebin.com/Ruj3W2Er>. Язык: Kotlin.\n",
    "\n",
    "Swift: <https://pastebin.com/Jh5PPwM6>. Язык: Swift 4.1.1.\n",
    "\n",
    "JavaScript: <https://pastebin.com/B5YhwWFK>. Язык: Node JS 8.9.4.\n",
    "\n",
    "Формат ввода\n",
    "------------\n",
    "\n",
    "На двух первых строках входного файла содержатся две строки строчных латинских символов: строка J и строка S. Длина каждой не превосходит 100 символов.\n",
    "\n",
    "Формат вывода\n",
    "-------------\n",
    "\n",
    "Выходной файл должен содержать единственное число --- количество камней, являющихся драгоценностями.\n",
    "\n",
    "Пример\n",
    "------\n",
    "\n",
    "| Ввод | Вывод |\n",
    "| --- | --- |\n",
    "|ab|4|\n",
    "|aabbccd||"
   ]
  },
  {
   "cell_type": "code",
   "execution_count": 1,
   "metadata": {},
   "outputs": [
    {
     "name": "stdout",
     "output_type": "stream",
     "text": [
      "ab\n",
      "aabbccd\n",
      "4\n"
     ]
    }
   ],
   "source": [
    "def getJewelCount(str1, str2):\n",
    "    cnt = 0\n",
    "    for i in str2:\n",
    "        if i in str1:\n",
    "            cnt+=1\n",
    "    return cnt\n",
    "\n",
    "str1 = input().strip()\n",
    "str2 = input().strip()\n",
    "print(getJewelCount(str1, str2))"
   ]
  }
 ],
 "metadata": {
  "kernelspec": {
   "display_name": "Python 3",
   "language": "python",
   "name": "python3"
  },
  "language_info": {
   "codemirror_mode": {
    "name": "ipython",
    "version": 3
   },
   "file_extension": ".py",
   "mimetype": "text/x-python",
   "name": "python",
   "nbconvert_exporter": "python",
   "pygments_lexer": "ipython3",
   "version": "3.7.3"
  },
  "toc": {
   "base_numbering": 1,
   "nav_menu": {},
   "number_sections": true,
   "sideBar": true,
   "skip_h1_title": false,
   "title_cell": "Table of Contents",
   "title_sidebar": "Contents",
   "toc_cell": false,
   "toc_position": {},
   "toc_section_display": true,
   "toc_window_display": false
  }
 },
 "nbformat": 4,
 "nbformat_minor": 2
}
