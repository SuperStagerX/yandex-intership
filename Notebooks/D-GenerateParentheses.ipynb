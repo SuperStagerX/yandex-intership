{
 "cells": [
  {
   "cell_type": "markdown",
   "metadata": {},
   "source": [
    "D. Генерация скобочных последовательностей\n",
    "==========================================\n",
    "\n",
    "| Ограничение времени | 1 секунда |\n",
    "|---|---|\n",
    "| Ограничение памяти | 20Mb |\n",
    "| Ввод | стандартный ввод или input.txt |\n",
    "| Вывод | стандартный вывод или output.txt |\n",
    "\n",
    "Дано целое число n. Требуется вывести все правильные скобочные последовательности длины 2 ⋅ n, упорядоченные лексикографически (см. [https://ru.wikipedia.org/wiki/Лексикографический_порядок](https://ru.wikipedia.org/wiki/%D0%9B%D0%B5%D0%BA%D1%81%D0%B8%D0%BA%D0%BE%D0%B3%D1%80%D0%B0%D1%84%D0%B8%D1%87%D0%B5%D1%81%D0%BA%D0%B8%D0%B9_%D0%BF%D0%BE%D1%80%D1%8F%D0%B4%D0%BE%D0%BA)).\n",
    "\n",
    "В задаче используются только круглые скобки.\n",
    "\n",
    "Желательно получить решение, которое работает за время, пропорциональное общему количеству правильных скобочных последовательностей в ответе, и при этом использует объём памяти, пропорциональный n.\n",
    "\n",
    "Формат ввода\n",
    "------------\n",
    "\n",
    "Единственная строка входного файла содержит целое число n, 0 ≤ n ≤ 11\n",
    "\n",
    "Формат вывода\n",
    "-------------\n",
    "\n",
    "Выходной файл содержит сгенерированные правильные скобочные последовательности, упорядоченные лексикографически.\n",
    "\n",
    "### Пример 1\n",
    "\n",
    "| Ввод | Вывод |\n",
    "| --- | --- |\n",
    "|2|(())|\n",
    "|-|()()|\n",
    "\n",
    "### Пример 2\n",
    "\n",
    "| Ввод | Вывод |\n",
    "| --- | --- |\n",
    "|3|((()))|\n",
    "|-|(()())|\n",
    "|-|(())()|\n",
    "|-|()(())|\n",
    "|-|()()()|"
   ]
  },
  {
   "cell_type": "code",
   "execution_count": 1,
   "metadata": {},
   "outputs": [
    {
     "output_type": "stream",
     "name": "stdout",
     "text": [
      "((()))\n(()())\n(())()\n()(())\n()()()\n"
     ]
    }
   ],
   "source": [
    "def generate_parentheses(open, close, curr):\n",
    "    if open != 0:\n",
    "        generate_parentheses(open - 1, close, curr + '(')\n",
    "    if open < close and close != 0:\n",
    "        generate_parentheses(open, close - 1, curr + ')')\n",
    "    if open == 0 and close == 0:\n",
    "        print(curr + ')' * close)     \n",
    "i = int(input())\n",
    "generate_parentheses(i, i, '')"
   ]
  },
  {
   "cell_type": "code",
   "execution_count": 2,
   "metadata": {},
   "outputs": [
    {
     "output_type": "stream",
     "name": "stdout",
     "text": [
      "((()))\n(()())\n(())()\n()(())\n()()()\n"
     ]
    }
   ],
   "source": [
    "generate_parentheses(3, 3, '')"
   ]
  }
 ],
 "metadata": {
  "kernelspec": {
   "display_name": "Python 3",
   "language": "python",
   "name": "python3"
  },
  "language_info": {
   "codemirror_mode": {
    "name": "ipython",
    "version": 3
   },
   "file_extension": ".py",
   "mimetype": "text/x-python",
   "name": "python",
   "nbconvert_exporter": "python",
   "pygments_lexer": "ipython3",
   "version": "3.7.6-final"
  },
  "toc": {
   "base_numbering": 1,
   "nav_menu": {},
   "number_sections": true,
   "sideBar": true,
   "skip_h1_title": false,
   "title_cell": "Table of Contents",
   "title_sidebar": "Contents",
   "toc_cell": false,
   "toc_position": {},
   "toc_section_display": true,
   "toc_window_display": false
  }
 },
 "nbformat": 4,
 "nbformat_minor": 2
}